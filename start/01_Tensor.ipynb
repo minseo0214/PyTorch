{
  "nbformat": 4,
  "nbformat_minor": 0,
  "metadata": {
    "colab": {
      "name": "Pytorch로 딥러닝하기_Tensor.ipynb",
      "provenance": [],
      "collapsed_sections": []
    },
    "kernelspec": {
      "name": "python3",
      "display_name": "Python 3"
    },
    "language_info": {
      "name": "python"
    },
    "accelerator": "GPU"
  },
  "cells": [
    {
      "cell_type": "code",
      "metadata": {
        "id": "_wZbaRn09tg2"
      },
      "source": [
        "import torch\n",
        "import numpy as np"
      ],
      "execution_count": 2,
      "outputs": []
    },
    {
      "cell_type": "markdown",
      "metadata": {
        "id": "7ZxOjzCp-gbO"
      },
      "source": [
        "데이터로 부터 직접 텐서를 생성"
      ]
    },
    {
      "cell_type": "code",
      "metadata": {
        "id": "U82948tA-QQc"
      },
      "source": [
        "data = [[1,2],[3,4]]\n",
        "x_data = torch.tensor(data)"
      ],
      "execution_count": 3,
      "outputs": []
    },
    {
      "cell_type": "markdown",
      "metadata": {
        "id": "kmLBhvtB-iuR"
      },
      "source": [
        "Numpy 배열로부터 생성"
      ]
    },
    {
      "cell_type": "code",
      "metadata": {
        "id": "G19qmtzc-ZZt"
      },
      "source": [
        "np_array = np.array(data)\n",
        "x_np = torch.from_numpy(np_array)"
      ],
      "execution_count": 4,
      "outputs": []
    },
    {
      "cell_type": "markdown",
      "metadata": {
        "id": "TRAPgfsA-mgN"
      },
      "source": [
        "다른 텐서로부터 생성"
      ]
    },
    {
      "cell_type": "code",
      "metadata": {
        "colab": {
          "base_uri": "https://localhost:8080/"
        },
        "id": "X1nigNgM-e2W",
        "outputId": "f2dcc486-0bb2-4cec-fe23-72b7beeead02"
      },
      "source": [
        "x_ones = torch.ones_like(x_data)\n",
        "print(f\"Ones Tenson: \\n{x_ones}\\n\")\n",
        "\n",
        "x_rand = torch.rand_like(x_data, dtype=torch.float)\n",
        "print(f\"Random Tensor : \\n {x_rand} \\n\")"
      ],
      "execution_count": 5,
      "outputs": [
        {
          "output_type": "stream",
          "text": [
            "Ones Tenson: \n",
            "tensor([[1, 1],\n",
            "        [1, 1]])\n",
            "\n",
            "Random Tensor : \n",
            " tensor([[0.7620, 0.4351],\n",
            "        [0.4301, 0.2367]]) \n",
            "\n"
          ],
          "name": "stdout"
        }
      ]
    },
    {
      "cell_type": "markdown",
      "metadata": {
        "id": "uVl0ZYh4-9zk"
      },
      "source": [
        "무작위 또는 상수 값을 사용하기"
      ]
    },
    {
      "cell_type": "code",
      "metadata": {
        "colab": {
          "base_uri": "https://localhost:8080/"
        },
        "id": "-o1MJ7d1-2Ht",
        "outputId": "d9c6c914-cbef-4083-b4dd-04521c9691b7"
      },
      "source": [
        "shape = (2,3,)\n",
        "rand_tensor = torch.rand(shape)\n",
        "ones_tensor = torch.ones(shape)\n",
        "zeros_tensor = torch.zeros(shape)\n",
        "\n",
        "print(f\"Random Tensor : \\n {rand_tensor}\\n\")\n",
        "print(f\"Ones Tensor : \\n {ones_tensor}\\n\")\n",
        "print(f\"Zeros Tensor : \\n {zeros_tensor}\\n\")"
      ],
      "execution_count": 6,
      "outputs": [
        {
          "output_type": "stream",
          "text": [
            "Random Tensor : \n",
            " tensor([[0.3878, 0.1329, 0.3184],\n",
            "        [0.3856, 0.2558, 0.4239]])\n",
            "\n",
            "Ones Tensor : \n",
            " tensor([[1., 1., 1.],\n",
            "        [1., 1., 1.]])\n",
            "\n",
            "Zeros Tensor : \n",
            " tensor([[0., 0., 0.],\n",
            "        [0., 0., 0.]])\n",
            "\n"
          ],
          "name": "stdout"
        }
      ]
    },
    {
      "cell_type": "markdown",
      "metadata": {
        "id": "B0cuUQXd_Upo"
      },
      "source": [
        "텐서의 속성(Atrribute)"
      ]
    },
    {
      "cell_type": "code",
      "metadata": {
        "colab": {
          "base_uri": "https://localhost:8080/"
        },
        "id": "7oz59VRI_TAk",
        "outputId": "a256179c-4540-4e7f-c681-d61487fcd9e7"
      },
      "source": [
        "tensor = torch.rand(3,4)\n",
        "\n",
        "print(f\"Shape of tensor : {tensor.shape}\")\n",
        "print(f\"Datatype of tensor : {tensor.dtype}\")\n",
        "print(f\"Device tensor is stored in : {tensor.device}\")"
      ],
      "execution_count": 7,
      "outputs": [
        {
          "output_type": "stream",
          "text": [
            "Shape of tensor : torch.Size([3, 4])\n",
            "Datatype of tensor : torch.float32\n",
            "Device tensor is stored in : cpu\n"
          ],
          "name": "stdout"
        }
      ]
    },
    {
      "cell_type": "markdown",
      "metadata": {
        "id": "kHy01XQc_nDz"
      },
      "source": [
        "텐서 연산(Operation)"
      ]
    },
    {
      "cell_type": "code",
      "metadata": {
        "id": "LoU8EKZa_lca"
      },
      "source": [
        "if torch.cuda.is_available():\n",
        "  tensor = tensor.to('cuda')"
      ],
      "execution_count": 8,
      "outputs": []
    },
    {
      "cell_type": "markdown",
      "metadata": {
        "id": "QSQG4-iW_5US"
      },
      "source": [
        "Numpy식의 표준 인덱싱과 슬라이싱"
      ]
    },
    {
      "cell_type": "code",
      "metadata": {
        "colab": {
          "base_uri": "https://localhost:8080/"
        },
        "id": "hHtPM6fe_w0l",
        "outputId": "e8787d48-4619-4987-b3c2-8abc4ba055a7"
      },
      "source": [
        "tensor = torch.ones(4,4)\n",
        "print('First row:',tensor[0])\n",
        "print('First column',tensor[:,0])\n",
        "print('Last column',tensor[...,-1])#...이 있는 건가..?\n",
        "tensor[:,1]=0\n",
        "print(tensor)"
      ],
      "execution_count": 9,
      "outputs": [
        {
          "output_type": "stream",
          "text": [
            "First row: tensor([1., 1., 1., 1.])\n",
            "First column tensor([1., 1., 1., 1.])\n",
            "Last column tensor([1., 1., 1., 1.])\n",
            "tensor([[1., 0., 1., 1.],\n",
            "        [1., 0., 1., 1.],\n",
            "        [1., 0., 1., 1.],\n",
            "        [1., 0., 1., 1.]])\n"
          ],
          "name": "stdout"
        }
      ]
    },
    {
      "cell_type": "markdown",
      "metadata": {
        "id": "rzRxFOhiANLY"
      },
      "source": [
        "텐서 합치기 tensor.cat\n"
      ]
    },
    {
      "cell_type": "code",
      "metadata": {
        "colab": {
          "base_uri": "https://localhost:8080/"
        },
        "id": "pHVNcF9zAK-k",
        "outputId": "9b60da8f-a5bf-4dd6-c189-1d5e62f0a6f5"
      },
      "source": [
        "t1 = torch.cat([tensor,tensor,tensor],dim=1)\n",
        "print(t1)"
      ],
      "execution_count": 11,
      "outputs": [
        {
          "output_type": "stream",
          "text": [
            "tensor([[1., 0., 1., 1., 1., 0., 1., 1., 1., 0., 1., 1.],\n",
            "        [1., 0., 1., 1., 1., 0., 1., 1., 1., 0., 1., 1.],\n",
            "        [1., 0., 1., 1., 1., 0., 1., 1., 1., 0., 1., 1.],\n",
            "        [1., 0., 1., 1., 1., 0., 1., 1., 1., 0., 1., 1.]])\n"
          ],
          "name": "stdout"
        }
      ]
    },
    {
      "cell_type": "markdown",
      "metadata": {
        "id": "jQuyqd7QAX7q"
      },
      "source": [
        "산술 연산"
      ]
    },
    {
      "cell_type": "markdown",
      "metadata": {
        "id": "Ecy6GycQAuhf"
      },
      "source": [
        "헹렬 곱(matrix multiplication)"
      ]
    },
    {
      "cell_type": "code",
      "metadata": {
        "colab": {
          "base_uri": "https://localhost:8080/"
        },
        "id": "N1E0s1t1ASWq",
        "outputId": "6767efcf-ca3c-4c6e-a5fb-8dbc56fee328"
      },
      "source": [
        "y1 = tensor @ tensor.T #numpy와 같음\n",
        "y2 = tensor.matmul(tensor.T)\n",
        "\n",
        "#rand_like 모양은 같에 random 숫자\n",
        "y3 = torch.rand_like(tensor)\n",
        "#out은 y3에 저장하라는 의미\n",
        "print(y1)\n",
        "print(y2)\n",
        "print(y3)\n",
        "torch.matmul(tensor,tensor.T,out=y3)\n",
        "print(y3)"
      ],
      "execution_count": 24,
      "outputs": [
        {
          "output_type": "stream",
          "text": [
            "tensor([[133., 133., 133., 133.],\n",
            "        [133., 133., 133., 133.],\n",
            "        [133., 133., 133., 133.],\n",
            "        [133., 133., 133., 133.]])\n",
            "tensor([[133., 133., 133., 133.],\n",
            "        [133., 133., 133., 133.],\n",
            "        [133., 133., 133., 133.],\n",
            "        [133., 133., 133., 133.]])\n",
            "tensor([[0.8316, 0.1772, 0.4218, 0.9365],\n",
            "        [0.1124, 0.0736, 0.4364, 0.5286],\n",
            "        [0.1882, 0.4742, 0.1140, 0.9522],\n",
            "        [0.1480, 0.6001, 0.4635, 0.5890]])\n",
            "tensor([[133., 133., 133., 133.],\n",
            "        [133., 133., 133., 133.],\n",
            "        [133., 133., 133., 133.],\n",
            "        [133., 133., 133., 133.]])\n"
          ],
          "name": "stdout"
        }
      ]
    },
    {
      "cell_type": "markdown",
      "metadata": {
        "id": "DAwW4odNA8hy"
      },
      "source": [
        "요소곱(element-wise)"
      ]
    },
    {
      "cell_type": "code",
      "metadata": {
        "colab": {
          "base_uri": "https://localhost:8080/"
        },
        "id": "v9-Bim4-Atyz",
        "outputId": "a59e3af5-19da-493e-aa36-c0f4f06534cb"
      },
      "source": [
        "z1 = tensor * tensor\n",
        "z2 = tensor.mul(tensor)\n",
        "\n",
        "z3 = torch.rand_like(tensor)\n",
        "torch.mul(tensor, tensor,out=z3)"
      ],
      "execution_count": 16,
      "outputs": [
        {
          "output_type": "execute_result",
          "data": {
            "text/plain": [
              "tensor([[1., 0., 1., 1.],\n",
              "        [1., 0., 1., 1.],\n",
              "        [1., 0., 1., 1.],\n",
              "        [1., 0., 1., 1.]])"
            ]
          },
          "metadata": {
            "tags": []
          },
          "execution_count": 16
        }
      ]
    },
    {
      "cell_type": "markdown",
      "metadata": {
        "id": "AbQCT362Bbfq"
      },
      "source": [
        "단일 요소 (single-element) 텐서의 모든 값을 하나로 집계하여 요소가 하나인 텐서"
      ]
    },
    {
      "cell_type": "code",
      "metadata": {
        "colab": {
          "base_uri": "https://localhost:8080/"
        },
        "id": "CqxVG_bkBaML",
        "outputId": "fc02bd2b-701a-4cc8-bc3f-18530a9a1ee7"
      },
      "source": [
        "agg = tensor.sum()\n",
        "agg_item = agg.item()\n",
        "print(agg_item,type(agg_item))"
      ],
      "execution_count": 19,
      "outputs": [
        {
          "output_type": "stream",
          "text": [
            "12.0 <class 'float'>\n"
          ],
          "name": "stdout"
        }
      ]
    },
    {
      "cell_type": "markdown",
      "metadata": {
        "id": "WQt8qvrwBrKG"
      },
      "source": [
        "바꿔치기(in-place) 연산: 연산 결과를 피연산자에 저장하는 연산을 바꿔치기 연산이라고 합니다. _접미사를 가짐."
      ]
    },
    {
      "cell_type": "code",
      "metadata": {
        "colab": {
          "base_uri": "https://localhost:8080/"
        },
        "id": "WTtPqSGVBnBS",
        "outputId": "2bae6a62-eaf8-4964-c404-9982b5e465ec"
      },
      "source": [
        "print(tensor,\"\\n\")\n",
        "tensor.add_(5) #tensor에 저장이 되도록\n",
        "print(tensor)"
      ],
      "execution_count": 20,
      "outputs": [
        {
          "output_type": "stream",
          "text": [
            "tensor([[1., 0., 1., 1.],\n",
            "        [1., 0., 1., 1.],\n",
            "        [1., 0., 1., 1.],\n",
            "        [1., 0., 1., 1.]]) \n",
            "\n",
            "tensor([[6., 5., 6., 6.],\n",
            "        [6., 5., 6., 6.],\n",
            "        [6., 5., 6., 6.],\n",
            "        [6., 5., 6., 6.]])\n"
          ],
          "name": "stdout"
        }
      ]
    },
    {
      "cell_type": "markdown",
      "metadata": {
        "id": "mO4loVGAB--6"
      },
      "source": [
        "Numpy 변환 (Bridge) : CPU 상의 텐서와 Numpy 배열은 메모리 공간을 공유하기 때문에, 하나를 변경하면 다른 하나도 변경됩니다. => GPU는??"
      ]
    },
    {
      "cell_type": "code",
      "metadata": {
        "colab": {
          "base_uri": "https://localhost:8080/"
        },
        "id": "J0wouCeOB31a",
        "outputId": "cbcbddeb-d7c4-4deb-ccf7-65c9cb593ad7"
      },
      "source": [
        "t = torch.ones(5)\n",
        "print(f\"t:{t}\")\n",
        "n = t.numpy()\n",
        "print(f\"n:{n}\")"
      ],
      "execution_count": 21,
      "outputs": [
        {
          "output_type": "stream",
          "text": [
            "t:tensor([1., 1., 1., 1., 1.])\n",
            "n:[1. 1. 1. 1. 1.]\n"
          ],
          "name": "stdout"
        }
      ]
    },
    {
      "cell_type": "markdown",
      "metadata": {
        "id": "bhIvyg6WCV-F"
      },
      "source": [
        "텐서 변경사항이 numpy에 반영이 됨."
      ]
    },
    {
      "cell_type": "code",
      "metadata": {
        "colab": {
          "base_uri": "https://localhost:8080/"
        },
        "id": "Jpdx8K7xCSra",
        "outputId": "2792968f-8548-4de8-bee9-e7f693af1b75"
      },
      "source": [
        "t.add_(1)\n",
        "print(f\"t:{t}\")\n",
        "print(f\"n:{n}\")"
      ],
      "execution_count": 22,
      "outputs": [
        {
          "output_type": "stream",
          "text": [
            "t:tensor([2., 2., 2., 2., 2.])\n",
            "n:[2. 2. 2. 2. 2.]\n"
          ],
          "name": "stdout"
        }
      ]
    },
    {
      "cell_type": "code",
      "metadata": {
        "id": "QxW591yUCb2R"
      },
      "source": [
        "n = np.ones(5)\n",
        "t = torch.from_numpy(n)"
      ],
      "execution_count": 23,
      "outputs": []
    },
    {
      "cell_type": "code",
      "metadata": {
        "colab": {
          "base_uri": "https://localhost:8080/"
        },
        "id": "7o1kPfj8CfWo",
        "outputId": "cfeb7ee9-30a6-4089-8742-04dad4ff2c46"
      },
      "source": [
        "np.add(n,1,out=n)\n",
        "print(f\"t:{t}\")\n",
        "print(f\"n:{n}\")"
      ],
      "execution_count": 25,
      "outputs": [
        {
          "output_type": "stream",
          "text": [
            "t:tensor([2., 2., 2., 2., 2.], dtype=torch.float64)\n",
            "n:[2. 2. 2. 2. 2.]\n"
          ],
          "name": "stdout"
        }
      ]
    },
    {
      "cell_type": "code",
      "metadata": {
        "id": "LqYyfrbqCrA5"
      },
      "source": [
        ""
      ],
      "execution_count": null,
      "outputs": []
    }
  ]
}
