{
  "nbformat": 4,
  "nbformat_minor": 0,
  "metadata": {
    "colab": {
      "name": "신경망 모델 구성하기.ipynb",
      "provenance": []
    },
    "kernelspec": {
      "name": "python3",
      "display_name": "Python 3"
    },
    "language_info": {
      "name": "python"
    },
    "accelerator": "GPU"
  },
  "cells": [
    {
      "cell_type": "markdown",
      "metadata": {
        "id": "UbIRX2gOP1ol"
      },
      "source": [
        "torch.nn : 신경망을 구성하는데 필요한 모든 구성요소를 제공  \n",
        "\n",
        "PyTorch의 모든 모듈은 nn.Model의 하위 클래스  \n",
        "신경망은 다른 모듈로 구성된 모듈"
      ]
    },
    {
      "cell_type": "code",
      "metadata": {
        "id": "4Khf7kIJPHhs"
      },
      "source": [
        "import os\n",
        "import torch\n",
        "from torch import nn\n",
        "from torch.utils.data import DataLoader\n",
        "from torchvision import datasets, transforms"
      ],
      "execution_count": 2,
      "outputs": []
    },
    {
      "cell_type": "markdown",
      "metadata": {
        "id": "vxpxDa8zQNBC"
      },
      "source": [
        "# GPU 사용"
      ]
    },
    {
      "cell_type": "code",
      "metadata": {
        "colab": {
          "base_uri": "https://localhost:8080/"
        },
        "id": "6kxN6xL9QLLo",
        "outputId": "839398f0-e4ee-4845-a0a6-fb3f8d3e708c"
      },
      "source": [
        "device = 'cuda' if torch.cuda.is_available() else 'cpu'\n",
        "print('Using {} device'.format(device))"
      ],
      "execution_count": 3,
      "outputs": [
        {
          "output_type": "stream",
          "text": [
            "Using cuda device\n"
          ],
          "name": "stdout"
        }
      ]
    },
    {
      "cell_type": "markdown",
      "metadata": {
        "id": "LAcmUQmVQe0q"
      },
      "source": [
        "신경망 모델을 nn.Module의 하위 클래스로 정의  \n",
        "__ init __ 에서 신경망 계층들을 초기화  \n",
        "nn.Module을 상속받은 모든 클래스는 forward 메소드에 입력 데이터에 대한 연산들을 구현합니다."
      ]
    },
    {
      "cell_type": "code",
      "metadata": {
        "id": "rgDjZOBlQXe7"
      },
      "source": [
        "class NeuralNetwork(nn.Module):\n",
        "  def __init__(self):\n",
        "    super(NeuralNetwork,self).__init__() #이건 왜하지?\n",
        "    self.flatten = nn.Flatten()\n",
        "    self.linear_reulu_stack = nn.Sequential(\n",
        "        nn.Linear(28*28,512),\n",
        "        nn.ReLU(),\n",
        "        nn.Linear(512,512),\n",
        "        nn.ReLU(),\n",
        "        nn.Linear(512,10),\n",
        "        nn.ReLU()\n",
        "    )\n",
        "  \n",
        "  def forward(self,x):\n",
        "    x = self.flatten(x)\n",
        "    logits = self.linear_reulu_stack(x)\n",
        "    return logits"
      ],
      "execution_count": 11,
      "outputs": []
    },
    {
      "cell_type": "markdown",
      "metadata": {
        "id": "sLrmXMGvRRAq"
      },
      "source": [
        "NeuralNetwork의 인스턴스를 생성하고, device로 이동한뒤, 구조 출력"
      ]
    },
    {
      "cell_type": "code",
      "metadata": {
        "colab": {
          "base_uri": "https://localhost:8080/"
        },
        "id": "-O1DEVUFRKHb",
        "outputId": "1b4eca42-f476-48b7-a9de-d388d4f81228"
      },
      "source": [
        "model = NeuralNetwork().to(device)\n",
        "print(model)"
      ],
      "execution_count": 12,
      "outputs": [
        {
          "output_type": "stream",
          "text": [
            "NeuralNetwork(\n",
            "  (flatten): Flatten(start_dim=1, end_dim=-1)\n",
            "  (linear_reulu_stack): Sequential(\n",
            "    (0): Linear(in_features=784, out_features=512, bias=True)\n",
            "    (1): ReLU()\n",
            "    (2): Linear(in_features=512, out_features=512, bias=True)\n",
            "    (3): ReLU()\n",
            "    (4): Linear(in_features=512, out_features=10, bias=True)\n",
            "    (5): ReLU()\n",
            "  )\n",
            ")\n"
          ],
          "name": "stdout"
        }
      ]
    },
    {
      "cell_type": "markdown",
      "metadata": {
        "id": "3kWLX9wCRlTx"
      },
      "source": [
        "일부 백그라운드 연산들과 함께 모델의 forward를 실행합니다.  \n",
        "model.forward()를 직접 호출시키지마라!  \n",
        "(강의에서는 직접 호출시키던데...)\n",
        "\n",
        "모델에 입력을 호출하면 각 분류(class)에 대한 원시(raw) 예측값이 있는 10 차원 텐서가 반환  \n",
        "원시 예측값을 nn.Sofrtmax 모듈의 인스턴스에 통과시켜 예측 확률을 얻습니다."
      ]
    },
    {
      "cell_type": "code",
      "metadata": {
        "colab": {
          "base_uri": "https://localhost:8080/"
        },
        "id": "HqJXQbPuRZSy",
        "outputId": "534cf1da-7ff5-4926-cedb-fbb53f300808"
      },
      "source": [
        "X = torch.rand(1,28,28, device = device)\n",
        "logits = model(X)\n",
        "pred_probab = nn.Softmax(dim=1)(logits)\n",
        "y_pred = pred_probab.argmax(1)\n",
        "print(f\"Predicted class: {y_pred}\")"
      ],
      "execution_count": 13,
      "outputs": [
        {
          "output_type": "stream",
          "text": [
            "Predicted class: tensor([0], device='cuda:0')\n"
          ],
          "name": "stdout"
        }
      ]
    },
    {
      "cell_type": "markdown",
      "metadata": {
        "id": "2Xik-S9oSdPV"
      },
      "source": [
        "#모델 계층(Layer)"
      ]
    },
    {
      "cell_type": "code",
      "metadata": {
        "colab": {
          "base_uri": "https://localhost:8080/"
        },
        "id": "yJT4DLU9SINB",
        "outputId": "61679280-16fd-4aa9-ce50-a14e9c42e906"
      },
      "source": [
        "input_image = torch.rand(3,28,28)\n",
        "print(input_image.size())"
      ],
      "execution_count": 14,
      "outputs": [
        {
          "output_type": "stream",
          "text": [
            "torch.Size([3, 28, 28])\n"
          ],
          "name": "stdout"
        }
      ]
    },
    {
      "cell_type": "markdown",
      "metadata": {
        "id": "7OI6C4YgSofU"
      },
      "source": [
        "#nn.Flatten\n",
        "\n",
        "dim=0의 미니배치 차원은 유지됨."
      ]
    },
    {
      "cell_type": "code",
      "metadata": {
        "colab": {
          "base_uri": "https://localhost:8080/"
        },
        "id": "VvCYtceKSlxq",
        "outputId": "c0922b29-0c15-4e63-ad09-5e60ac694739"
      },
      "source": [
        "flatten = nn.Flatten()\n",
        "flat_image = flatten(input_image)\n",
        "print(flat_image.size())"
      ],
      "execution_count": 17,
      "outputs": [
        {
          "output_type": "stream",
          "text": [
            "torch.Size([3, 784])\n"
          ],
          "name": "stdout"
        }
      ]
    },
    {
      "cell_type": "markdown",
      "metadata": {
        "id": "eUiwVCJBYh6h"
      },
      "source": [
        "#nn.Linear  \n",
        "\n",
        "선형 계층은 저장된 가중치(weight)과 편향(bias)을 사용하여  \n",
        "입력에 선형 변환을 적용하는 모듈"
      ]
    },
    {
      "cell_type": "code",
      "metadata": {
        "colab": {
          "base_uri": "https://localhost:8080/"
        },
        "id": "FFSTrs54Syp5",
        "outputId": "4fe50c80-b4c1-4e58-9283-fe51a4b66473"
      },
      "source": [
        "layer1 = nn.Linear(in_features=28*28,out_features=20)\n",
        "hidden1 = layer1(flat_image)\n",
        "print(hidden1.size())"
      ],
      "execution_count": 19,
      "outputs": [
        {
          "output_type": "stream",
          "text": [
            "torch.Size([3, 20])\n"
          ],
          "name": "stdout"
        }
      ]
    },
    {
      "cell_type": "markdown",
      "metadata": {
        "id": "FTSjlKv-Y0s-"
      },
      "source": [
        "#nn.ReLU  \n",
        "\n",
        "비선형 활성화는 모델의 입력과 출력 사이에 복잡한 관계(mapping)을 만듭니다.  \n",
        "비선형 활성화는 선형 변환 후에 적용되어 비선형성(nonlinearity)을 도입하고, 신경망이 다양한 현상을 학습할 수 있도록 돕습니다.  \n",
        "\n",
        "ReLU 말고도 다른 것을 사용할 수 있습니다."
      ]
    },
    {
      "cell_type": "code",
      "metadata": {
        "colab": {
          "base_uri": "https://localhost:8080/"
        },
        "id": "3oPqcrNzYyZC",
        "outputId": "a4de425d-ffa5-4e5c-d6e2-f0670940dd92"
      },
      "source": [
        "print(f\"Before ReLU: {hidden1}\\n\\n\")\n",
        "hidden1 = nn.ReLU()(hidden1)\n",
        "print(f\"After ReLU : {hidden1}\")"
      ],
      "execution_count": 21,
      "outputs": [
        {
          "output_type": "stream",
          "text": [
            "Before ReLU: tensor([[ 0.0696,  0.1111,  0.0101,  0.4592,  0.1485,  0.0433, -0.2587, -0.3178,\n",
            "         -0.3945,  0.7651, -0.3735, -0.2132,  0.1938, -0.0760,  0.1627,  0.5133,\n",
            "         -0.3048,  0.3337, -0.4908, -0.4277],\n",
            "        [ 0.0566, -0.0500,  0.0793,  0.4320,  0.1004,  0.2827, -0.0604, -0.0658,\n",
            "         -0.4238,  0.4063, -0.6528,  0.0309,  0.2226, -0.4336, -0.1983,  0.3539,\n",
            "         -0.0908,  0.4552, -0.2047, -0.3597],\n",
            "        [ 0.2656, -0.1672, -0.1596,  0.5624, -0.1646,  0.1682, -0.1662, -0.2291,\n",
            "         -0.4888,  0.5328, -0.1079, -0.0212,  0.2637, -0.1313, -0.1582,  0.1906,\n",
            "          0.0383,  0.2418,  0.2074, -0.3390]], grad_fn=<AddmmBackward>)\n",
            "\n",
            "\n",
            "After ReLU : tensor([[0.0696, 0.1111, 0.0101, 0.4592, 0.1485, 0.0433, 0.0000, 0.0000, 0.0000,\n",
            "         0.7651, 0.0000, 0.0000, 0.1938, 0.0000, 0.1627, 0.5133, 0.0000, 0.3337,\n",
            "         0.0000, 0.0000],\n",
            "        [0.0566, 0.0000, 0.0793, 0.4320, 0.1004, 0.2827, 0.0000, 0.0000, 0.0000,\n",
            "         0.4063, 0.0000, 0.0309, 0.2226, 0.0000, 0.0000, 0.3539, 0.0000, 0.4552,\n",
            "         0.0000, 0.0000],\n",
            "        [0.2656, 0.0000, 0.0000, 0.5624, 0.0000, 0.1682, 0.0000, 0.0000, 0.0000,\n",
            "         0.5328, 0.0000, 0.0000, 0.2637, 0.0000, 0.0000, 0.1906, 0.0383, 0.2418,\n",
            "         0.2074, 0.0000]], grad_fn=<ReluBackward0>)\n"
          ],
          "name": "stdout"
        }
      ]
    },
    {
      "cell_type": "markdown",
      "metadata": {
        "id": "r4AMH6-CZU8W"
      },
      "source": [
        "#nn.Sequential  \n",
        "\n",
        "순서를 갖는 모듈의 컨테이너  \n",
        "데이터는 정의된 것과 같은 순서로 모든 모듈들을 통해 전달됨.  \n",
        "순차 컨테이너를 사용하여 아래의 seq_models와 같은 신경망을 빠르게 만들 수 있습니다."
      ]
    },
    {
      "cell_type": "code",
      "metadata": {
        "id": "Yj_er65gZHBy"
      },
      "source": [
        "seq_modules = nn.Sequential(\n",
        "    flatten,\n",
        "    layer1,\n",
        "    nn.ReLU(),\n",
        "    nn.Linear(20,10)\n",
        ")\n",
        "\n",
        "input_image = torch.rand(3,28,28)\n",
        "logits = seq_modules(input_image)"
      ],
      "execution_count": 23,
      "outputs": []
    },
    {
      "cell_type": "markdown",
      "metadata": {
        "id": "qXjjQ5rMZvVA"
      },
      "source": [
        "#nn.Softmax\n",
        "\n",
        "신경망의 마지막 선형 계층 nn.Softmax\n",
        "[-inf,inf[ 범위의 원시값 (raw value)인 logits을 반환  \n",
        "logits은 모델의 각 분류(class)에 대한 예측 확률을 나타내도록 [0,1] 범위로 비례하여 조정됨.  \n",
        "\n",
        "dim 매개변수는 값의 합이 1이 되는 차원을 나타냄"
      ]
    },
    {
      "cell_type": "code",
      "metadata": {
        "id": "q7XzdrD0ZmhK"
      },
      "source": [
        "softmax = nn.Softmax(dim=1)\n",
        "pred_probab = softmax(logits)"
      ],
      "execution_count": 24,
      "outputs": []
    },
    {
      "cell_type": "markdown",
      "metadata": {
        "id": "vL1ABRlmaHfY"
      },
      "source": [
        "#모델 매개변수 \n",
        "\n",
        "신경망 내부의 많은 계층들은 매개변수화 됩니다.  \n",
        "즉, 학습 중에 최적화되는 가중치와 편향과 연관지어집니다.  \n",
        "nn.Module을 상속하면 모델 객체 내부의 모든 필드들이 자동으로 추적되며, 모델의 parameters() 및 named_parameters() 메소드로 모든 매개변수에 접근할 수 있게 됩니다.  \n",
        "\n",
        "예제는 각 매개변수들을 순회하며, 매개변수의 크기와 값을 출력\n"
      ]
    },
    {
      "cell_type": "code",
      "metadata": {
        "colab": {
          "base_uri": "https://localhost:8080/"
        },
        "id": "JavcnVjZaGAJ",
        "outputId": "d8361af1-c82e-434f-9de4-87e2e3ac3670"
      },
      "source": [
        "print(\"Model structure : \",model,'\\n\\n')\n",
        "for name, param in model.named_parameters():\n",
        "  print(f\"Layer:{name} | Size: {param.size()}|Values : {param[:2]} \\n\")"
      ],
      "execution_count": 28,
      "outputs": [
        {
          "output_type": "stream",
          "text": [
            "Model structure :  NeuralNetwork(\n",
            "  (flatten): Flatten(start_dim=1, end_dim=-1)\n",
            "  (linear_reulu_stack): Sequential(\n",
            "    (0): Linear(in_features=784, out_features=512, bias=True)\n",
            "    (1): ReLU()\n",
            "    (2): Linear(in_features=512, out_features=512, bias=True)\n",
            "    (3): ReLU()\n",
            "    (4): Linear(in_features=512, out_features=10, bias=True)\n",
            "    (5): ReLU()\n",
            "  )\n",
            ") \n",
            "\n",
            "\n",
            "Layer:linear_reulu_stack.0.weight | Size: torch.Size([512, 784])|Values : tensor([[-0.0078, -0.0296,  0.0066,  ..., -0.0244, -0.0053,  0.0084],\n",
            "        [-0.0058,  0.0329,  0.0009,  ...,  0.0176, -0.0144, -0.0167]],\n",
            "       device='cuda:0', grad_fn=<SliceBackward>) \n",
            "\n",
            "Layer:linear_reulu_stack.0.bias | Size: torch.Size([512])|Values : tensor([ 0.0117, -0.0144], device='cuda:0', grad_fn=<SliceBackward>) \n",
            "\n",
            "Layer:linear_reulu_stack.2.weight | Size: torch.Size([512, 512])|Values : tensor([[-0.0296,  0.0164, -0.0412,  ...,  0.0057,  0.0250,  0.0347],\n",
            "        [ 0.0209, -0.0338,  0.0040,  ...,  0.0030, -0.0347, -0.0250]],\n",
            "       device='cuda:0', grad_fn=<SliceBackward>) \n",
            "\n",
            "Layer:linear_reulu_stack.2.bias | Size: torch.Size([512])|Values : tensor([-0.0018,  0.0315], device='cuda:0', grad_fn=<SliceBackward>) \n",
            "\n",
            "Layer:linear_reulu_stack.4.weight | Size: torch.Size([10, 512])|Values : tensor([[-0.0383,  0.0381, -0.0139,  ...,  0.0225,  0.0060,  0.0151],\n",
            "        [-0.0360, -0.0323,  0.0081,  ..., -0.0027,  0.0287, -0.0196]],\n",
            "       device='cuda:0', grad_fn=<SliceBackward>) \n",
            "\n",
            "Layer:linear_reulu_stack.4.bias | Size: torch.Size([10])|Values : tensor([ 0.0397, -0.0194], device='cuda:0', grad_fn=<SliceBackward>) \n",
            "\n"
          ],
          "name": "stdout"
        }
      ]
    },
    {
      "cell_type": "code",
      "metadata": {
        "id": "ezyFnoefawAn"
      },
      "source": [
        ""
      ],
      "execution_count": null,
      "outputs": []
    }
  ]
}
